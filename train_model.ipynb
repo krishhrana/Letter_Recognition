{
 "cells": [
  {
   "cell_type": "code",
   "execution_count": 1,
   "metadata": {},
   "outputs": [
    {
     "name": "stderr",
     "output_type": "stream",
     "text": [
      "Using TensorFlow backend.\n"
     ]
    }
   ],
   "source": [
    "import os\n",
    "import numpy as np\n",
    "from skimage.io import imread\n",
    "from skimage.filters import threshold_otsu\n",
    "import keras\n",
    "from keras import optimizers\n",
    "from keras.layers import *\n",
    "from keras.models import Model\n",
    "from keras.utils import to_categorical\n",
    "\n"
   ]
  },
  {
   "cell_type": "code",
   "execution_count": 2,
   "metadata": {},
   "outputs": [],
   "source": [
    "letters = [\n",
    "            '0', '1', '2', '3', '4', '5', '6', '7', '8', '9', 'A', 'B', 'C', 'D',\n",
    "            'E', 'F', 'G', 'H', 'J', 'K', 'L', 'M', 'N', 'P', 'Q', 'R', 'S', 'T',\n",
    "            'U', 'V', 'W', 'X', 'Y', 'Z'\n",
    "        ]\n",
    "\n",
    "def read_training_data(training_directory):\n",
    "    training_data=[]\n",
    "    for each_letter in letters:\n",
    "        for each in range(10):\n",
    "            image_path = os.path.join(training_directory, each_letter, each_letter + '_' + str(each) + '.jpg')\n",
    "            # read each image of each character\n",
    "            img_details = imread(image_path, as_gray=True)\n",
    "            # converts each character image to binary image\n",
    "            binary_image = img_details < threshold_otsu(img_details)\n",
    "            # 20*20 image becomes 1*400\n",
    "            # in machine learning terms that's 400 features\n",
    "            flat_bin_image = binary_image.reshape(-1)\n",
    "            training_data.append([flat_bin_image, each_letter])\n",
    "\n",
    "    return (np.array(training_data))"
   ]
  },
  {
   "cell_type": "code",
   "execution_count": 3,
   "metadata": {},
   "outputs": [
    {
     "name": "stdout",
     "output_type": "stream",
     "text": [
      "reading data\n",
      "(340, 2)\n",
      "reading data completed\n"
     ]
    }
   ],
   "source": [
    "# current_dir = os.path.dirname(os.path.realpath(__file__))\n",
    "# training_dataset_dir = os.path.join(current_dir, 'train')\n",
    "print('reading data')\n",
    "training_dataset_dir = './train20X20'\n",
    "training_data = read_training_data(training_dataset_dir)\n",
    "print(training_data.shape)\n",
    "print('reading data completed')"
   ]
  },
  {
   "cell_type": "code",
   "execution_count": 4,
   "metadata": {},
   "outputs": [
    {
     "name": "stdout",
     "output_type": "stream",
     "text": [
      "(340, 400)\n",
      "['0', '0', '0', '0', '0', '0', '0', '0', '0', '0', '1', '0', '0', '1', '0', '0', '1', '1', '0', '0', '0', '0', '1', '2', '1', '2', '1', '0', '1', '2', '2', '1', '1', '2', '1', '1', '1', '1', '3', '0', '3', '2', '0', '2', '4', '0', '3', '1', '0', '0', '1', '2', '1', '3', '1', '5', '3', '3', '0', '2', '1', '3', '5', '3', '0', '2', '0', '3', '2', '1', '5', '2', '2', '6', '5', '1', '4', '3', '3', '3', '1', '4', '3', '7', '3', '1', '0', '1', '5', '5', '5', '8', '0', '8', '5', '5', '2', '3', '1', '7', '5', '4', '9', '0', '2', '7', '7', '4', '5', '0', '4', '5', '3', 'A', '0', '5', '2', '7', '3', 'B', '1', '1', '6', '0', '6', '5', '4', 'A', '3', '7', '1', '7', 'D', 'C', 'A', '4', '0', 'A', '6', '0', 'C', '7', '5', '6', 'C', '1', '2', 'E', 'D', '8', '7', '9', '2', '3', '4', '4', '2', '9', '3', '0', '9', 'E', '4', '3', '5', '5', '1', 'F', 'F', 'F', 'C', '4', 'F', 'H', 'D', '3', 'G', '5', '4', '9', 'E', '9', 'H', '3', 'H', '7', 'F', 'E', 'E', '5', '6', '1', '1', '4', '8', 'B', 'K', 'D', '6', '5', '9', 'C', 'G', '8', 'C', 'H', 'A', 'F', '5', '4', 'B', '4', '0', 'F', 'E', 'E', '9', '2', 'H', '7', '0', '3', 'G', '9', 'J', 'A', '7', '0', '8', 'L', '4', 'K', 'N', '5', '2', '8', 'D', '4', '2', '4', 'D', 'M', 'Q', 'F', 'D', 'D', 'D', 'E', '3', '7', 'M', 'A', '8', 'M', 'M', 'A', 'L', '9', '6', 'E', 'L', 'H', '3', 'J', '2', '1', 'F', 'F', 'L', '2', 'Q', 'G', '1', 'H', '4', '3', 'Q', 'G', '9', 'G', 'C', '4', 'J', 'J', '2', '7', '4', 'R', 'K', '5', '8', 'P', '7', 'E', 'G', 'Q', 'R', 'N', '9', '4', '2', 'L', '0', 'T', 'U', 'J', 'A', 'A', 'N', 'G', '1', '5', '9', '2', '3', '4', 'M', '9', 'N', '8', 'L', '3', 'N', '7', '9', '3', '4', 'D', 'M', 'V', 'F', 'P', '6', 'P', 'L', 'H', '8', 'B', 'L', '6']\n"
     ]
    }
   ],
   "source": [
    "#Randomizing the data for better training of the model \n",
    "import random \n",
    "random.shuffle(training_data)\n",
    "\n",
    "X=[]\n",
    "y=[]\n",
    "for features, labels in training_data:\n",
    "    X.append(features)\n",
    "    y.append(labels)\n",
    "\n",
    "X=np.array(X)\n",
    "print(X.shape)\n",
    "print(y)"
   ]
  },
  {
   "cell_type": "code",
   "execution_count": 5,
   "metadata": {},
   "outputs": [],
   "source": [
    "# preprocessing data\n",
    "#encodeing string labels to integers\n",
    "from sklearn.preprocessing import LabelEncoder\n",
    "from sklearn.preprocessing import OneHotEncoder\n",
    "\n",
    "\n",
    "label_encoder = LabelEncoder()\n",
    "integer_encoded = label_encoder.fit_transform(y)\n",
    "#print(integer_encoded)\n",
    "labels_encoded=to_categorical(integer_encoded, num_classes=34) #since it is multiclass classification it converts 34 class vectors to binary class matrix\n",
    "#print(labels_encoded)\n",
    "\n",
    "X=X/255"
   ]
  },
  {
   "cell_type": "code",
   "execution_count": 6,
   "metadata": {},
   "outputs": [
    {
     "name": "stderr",
     "output_type": "stream",
     "text": [
      "WARNING: Logging before flag parsing goes to stderr.\n",
      "W0930 18:55:15.159904 4701914560 deprecation_wrapper.py:119] From /Library/Frameworks/Python.framework/Versions/3.7/lib/python3.7/site-packages/keras/backend/tensorflow_backend.py:74: The name tf.get_default_graph is deprecated. Please use tf.compat.v1.get_default_graph instead.\n",
      "\n",
      "W0930 18:55:15.178949 4701914560 deprecation_wrapper.py:119] From /Library/Frameworks/Python.framework/Versions/3.7/lib/python3.7/site-packages/keras/backend/tensorflow_backend.py:517: The name tf.placeholder is deprecated. Please use tf.compat.v1.placeholder instead.\n",
      "\n",
      "W0930 18:55:15.186120 4701914560 deprecation_wrapper.py:119] From /Library/Frameworks/Python.framework/Versions/3.7/lib/python3.7/site-packages/keras/backend/tensorflow_backend.py:4138: The name tf.random_uniform is deprecated. Please use tf.random.uniform instead.\n",
      "\n"
     ]
    },
    {
     "name": "stdout",
     "output_type": "stream",
     "text": [
      "=======================training model============================\n",
      "_________________________________________________________________\n",
      "Layer (type)                 Output Shape              Param #   \n",
      "=================================================================\n",
      "input_1 (InputLayer)         (None, 400)               0         \n",
      "_________________________________________________________________\n",
      "dense_1 (Dense)              (None, 300)               120300    \n",
      "_________________________________________________________________\n",
      "dense_2 (Dense)              (None, 200)               60200     \n",
      "_________________________________________________________________\n",
      "dense_3 (Dense)              (None, 100)               20100     \n",
      "_________________________________________________________________\n",
      "dense_4 (Dense)              (None, 100)               10100     \n",
      "_________________________________________________________________\n",
      "dense_5 (Dense)              (None, 100)               10100     \n",
      "_________________________________________________________________\n",
      "dense_6 (Dense)              (None, 100)               10100     \n",
      "_________________________________________________________________\n",
      "dense_7 (Dense)              (None, 34)                3434      \n",
      "=================================================================\n",
      "Total params: 234,334\n",
      "Trainable params: 234,334\n",
      "Non-trainable params: 0\n",
      "_________________________________________________________________\n"
     ]
    }
   ],
   "source": [
    "print('=======================training model============================')      #keras module used \n",
    "Inp=Input((400,))\n",
    "x=(Dense(300, activation='tanh'))(Inp)\n",
    "x=(Dense(200, activation='tanh'))(x)\n",
    "x=(Dense(100, activation='tanh'))(x)\n",
    "x=(Dense(100, activation='tanh'))(x)\n",
    "x=(Dense(100, activation='tanh'))(x)\n",
    "x=(Dense(100, activation='tanh'))(x)\n",
    "output= (Dense(34, activation='softmax'))(x)\n",
    "\n",
    "model=Model(Inp, output)\n",
    "model.summary()"
   ]
  },
  {
   "cell_type": "code",
   "execution_count": 7,
   "metadata": {},
   "outputs": [
    {
     "name": "stderr",
     "output_type": "stream",
     "text": [
      "W0930 18:55:24.761082 4701914560 deprecation_wrapper.py:119] From /Library/Frameworks/Python.framework/Versions/3.7/lib/python3.7/site-packages/keras/optimizers.py:790: The name tf.train.Optimizer is deprecated. Please use tf.compat.v1.train.Optimizer instead.\n",
      "\n",
      "W0930 18:55:24.793860 4701914560 deprecation_wrapper.py:119] From /Library/Frameworks/Python.framework/Versions/3.7/lib/python3.7/site-packages/keras/backend/tensorflow_backend.py:3295: The name tf.log is deprecated. Please use tf.math.log instead.\n",
      "\n",
      "W0930 18:55:24.874943 4701914560 deprecation.py:323] From /Library/Frameworks/Python.framework/Versions/3.7/lib/python3.7/site-packages/tensorflow/python/ops/math_grad.py:1250: add_dispatch_support.<locals>.wrapper (from tensorflow.python.ops.array_ops) is deprecated and will be removed in a future version.\n",
      "Instructions for updating:\n",
      "Use tf.where in 2.0, which has the same broadcast rule as np.where\n",
      "W0930 18:55:24.933285 4701914560 deprecation_wrapper.py:119] From /Library/Frameworks/Python.framework/Versions/3.7/lib/python3.7/site-packages/keras/backend/tensorflow_backend.py:986: The name tf.assign_add is deprecated. Please use tf.compat.v1.assign_add instead.\n",
      "\n"
     ]
    },
    {
     "name": "stdout",
     "output_type": "stream",
     "text": [
      "Train on 272 samples, validate on 68 samples\n",
      "Epoch 1/30\n",
      "272/272 [==============================] - 1s 2ms/step - loss: 3.2932 - acc: 0.1360 - val_loss: 3.8275 - val_acc: 0.0147\n",
      "Epoch 2/30\n",
      "272/272 [==============================] - 0s 322us/step - loss: 2.8590 - acc: 0.2316 - val_loss: 3.7618 - val_acc: 0.0441\n",
      "Epoch 3/30\n",
      "272/272 [==============================] - 0s 269us/step - loss: 2.4161 - acc: 0.2831 - val_loss: 3.2883 - val_acc: 0.1324\n",
      "Epoch 4/30\n",
      "272/272 [==============================] - 0s 280us/step - loss: 2.0784 - acc: 0.4007 - val_loss: 3.3161 - val_acc: 0.1471\n",
      "Epoch 5/30\n",
      "272/272 [==============================] - 0s 262us/step - loss: 1.8018 - acc: 0.5074 - val_loss: 2.9675 - val_acc: 0.2647\n",
      "Epoch 6/30\n",
      "272/272 [==============================] - 0s 282us/step - loss: 1.4909 - acc: 0.5882 - val_loss: 2.8485 - val_acc: 0.2941\n",
      "Epoch 7/30\n",
      "272/272 [==============================] - 0s 258us/step - loss: 1.2779 - acc: 0.6397 - val_loss: 2.6220 - val_acc: 0.3382\n",
      "Epoch 8/30\n",
      "272/272 [==============================] - 0s 226us/step - loss: 1.0577 - acc: 0.6949 - val_loss: 2.5219 - val_acc: 0.3676\n",
      "Epoch 9/30\n",
      "272/272 [==============================] - 0s 190us/step - loss: 0.9016 - acc: 0.7500 - val_loss: 2.3360 - val_acc: 0.4412\n",
      "Epoch 10/30\n",
      "272/272 [==============================] - 0s 220us/step - loss: 0.7726 - acc: 0.7757 - val_loss: 2.2144 - val_acc: 0.5000\n",
      "Epoch 11/30\n",
      "272/272 [==============================] - 0s 303us/step - loss: 0.6867 - acc: 0.8199 - val_loss: 2.0594 - val_acc: 0.5441\n",
      "Epoch 12/30\n",
      "272/272 [==============================] - 0s 268us/step - loss: 0.5945 - acc: 0.8529 - val_loss: 2.1231 - val_acc: 0.5735\n",
      "Epoch 13/30\n",
      "272/272 [==============================] - 0s 264us/step - loss: 0.4872 - acc: 0.8750 - val_loss: 2.0400 - val_acc: 0.6176\n",
      "Epoch 14/30\n",
      "272/272 [==============================] - 0s 249us/step - loss: 0.4379 - acc: 0.9044 - val_loss: 2.0048 - val_acc: 0.5882\n",
      "Epoch 15/30\n",
      "272/272 [==============================] - 0s 255us/step - loss: 0.3796 - acc: 0.9044 - val_loss: 2.0375 - val_acc: 0.5441\n",
      "Epoch 16/30\n",
      "272/272 [==============================] - 0s 282us/step - loss: 0.3465 - acc: 0.9412 - val_loss: 1.8996 - val_acc: 0.6324\n",
      "Epoch 17/30\n",
      "272/272 [==============================] - 0s 212us/step - loss: 0.2939 - acc: 0.9412 - val_loss: 1.8016 - val_acc: 0.6471\n",
      "Epoch 18/30\n",
      "272/272 [==============================] - 0s 185us/step - loss: 0.2618 - acc: 0.9522 - val_loss: 1.8010 - val_acc: 0.6176\n",
      "Epoch 19/30\n",
      "272/272 [==============================] - 0s 208us/step - loss: 0.2682 - acc: 0.9265 - val_loss: 1.9607 - val_acc: 0.6176\n",
      "Epoch 20/30\n",
      "272/272 [==============================] - 0s 190us/step - loss: 0.2263 - acc: 0.9412 - val_loss: 1.8525 - val_acc: 0.6471\n",
      "Epoch 21/30\n",
      "272/272 [==============================] - 0s 276us/step - loss: 0.1788 - acc: 0.9669 - val_loss: 1.8167 - val_acc: 0.6618\n",
      "Epoch 22/30\n",
      "272/272 [==============================] - 0s 269us/step - loss: 0.1652 - acc: 0.9706 - val_loss: 1.8326 - val_acc: 0.6618\n",
      "Epoch 23/30\n",
      "272/272 [==============================] - 0s 285us/step - loss: 0.1426 - acc: 0.9743 - val_loss: 1.7903 - val_acc: 0.6765\n",
      "Epoch 24/30\n",
      "272/272 [==============================] - 0s 217us/step - loss: 0.1328 - acc: 0.9779 - val_loss: 1.7426 - val_acc: 0.6765\n",
      "Epoch 25/30\n",
      "272/272 [==============================] - 0s 196us/step - loss: 0.1301 - acc: 0.9743 - val_loss: 1.7794 - val_acc: 0.6912\n",
      "Epoch 26/30\n",
      "272/272 [==============================] - 0s 211us/step - loss: 0.1091 - acc: 0.9816 - val_loss: 1.8042 - val_acc: 0.6912\n",
      "Epoch 27/30\n",
      "272/272 [==============================] - 0s 196us/step - loss: 0.0918 - acc: 0.9853 - val_loss: 1.8111 - val_acc: 0.6912\n",
      "Epoch 28/30\n",
      "272/272 [==============================] - 0s 193us/step - loss: 0.0821 - acc: 0.9926 - val_loss: 1.7557 - val_acc: 0.7059\n",
      "Epoch 29/30\n",
      "272/272 [==============================] - 0s 187us/step - loss: 0.0727 - acc: 0.9963 - val_loss: 1.7099 - val_acc: 0.7059\n",
      "Epoch 30/30\n",
      "272/272 [==============================] - 0s 203us/step - loss: 0.0672 - acc: 0.9963 - val_loss: 1.7233 - val_acc: 0.7206\n"
     ]
    },
    {
     "data": {
      "text/plain": [
       "<keras.callbacks.History at 0x13ba8a940>"
      ]
     },
     "execution_count": 7,
     "metadata": {},
     "output_type": "execute_result"
    }
   ],
   "source": [
    "learning_rate=0.001\n",
    "epochs=30\n",
    "batch_size=20\n",
    "adam=optimizers.Adam(lr=learning_rate)\n",
    "\n",
    "\n",
    "model.compile(loss='categorical_crossentropy', optimizer='adam', metrics=['accuracy'])\n",
    "model.fit(X, labels_encoded, batch_size=batch_size, epochs=epochs, validation_split=0.2)"
   ]
  },
  {
   "cell_type": "code",
   "execution_count": null,
   "metadata": {},
   "outputs": [],
   "source": []
  }
 ],
 "metadata": {
  "kernelspec": {
   "display_name": "Python 3",
   "language": "python",
   "name": "python3"
  },
  "language_info": {
   "codemirror_mode": {
    "name": "ipython",
    "version": 3
   },
   "file_extension": ".py",
   "mimetype": "text/x-python",
   "name": "python",
   "nbconvert_exporter": "python",
   "pygments_lexer": "ipython3",
   "version": "3.7.3"
  }
 },
 "nbformat": 4,
 "nbformat_minor": 2
}
